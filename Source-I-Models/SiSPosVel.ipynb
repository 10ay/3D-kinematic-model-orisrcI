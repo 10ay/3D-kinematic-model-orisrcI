{
 "cells": [
  {
   "cell_type": "code",
   "execution_count": 1,
   "id": "72647e1f-17d4-4928-90e2-75a16acea657",
   "metadata": {},
   "outputs": [],
   "source": [
    "import numpy as np\n",
    "import pandas as pd\n",
    "import math\n",
    "from sisModel import SiSModel\n",
    "from matplotlib import pyplot as plt\n",
    "import astropy as ast\n",
    "from astropy.io import fits\n",
    "from astropy.visualization import astropy_mpl_style\n",
    "\n",
    "\n",
    "# Adjust these parameters to control the shape of the outflow lobes\n",
    "# r = r0 + r1 * abs(z) + r2 * sqrt(abs(z)); units = AU\n",
    "# ----------------------------------------------------------------------------------------------#\n",
    "r_inner_base = 5                      # inner radius at base of outflow from the circumstellar disk\n",
    "r_inner_lin = .1                       # linear factor for inner radius\n",
    "r_inner_par = 6                        # parabolic factor for inner radius\n",
    "r_outer_base = 20.                     # outer radius at base of outflow from the circumstellar disk\n",
    "r_outer_lin = 0.15                     # linear factor for outer radius\n",
    "r_outer_par = 10                        # parabolic factor for outer radius\n",
    "theta = math.radians(10.)             # angle of outflow axis to plane of sky \n",
    "# ----------------------------------------------------------------------------------------------#\n",
    "\n",
    "\n",
    "# Test and Deprecated Variables\n",
    "# ----------------------------------------------------------------------------------------------#\n",
    "#r_inner_angle = math.atan(.25)        # angle relating linear increase in inner radius with z\n",
    "#r_outer_angle = math.atan(.50)        # angle relating linear increase in outer radius with z\n",
    "#theta = 0                             # test angle of outflow axis to plane of sky \n",
    "# ----------------------------------------------------------------------------------------------#\n",
    "\n",
    "\n",
    "\n",
    "# Adjust these parameters to control the velocity field inside the outflow shells\n",
    "# ----------------------------------------------------------------------------------------------#\n",
    "v_radial_0 = 10.         # radial expansion speed at all z\n",
    "v_phi_0 = -11.            # rotational velocity at zprime=0 (in the disk)\n",
    "v_z_0 = 18.             # expansion speed along outflow axis\n",
    "z_no_rotation = 10.   # rotataional velocity drops to 0 at height z_no_rotation (AU)\n",
    "# ----------------------------------------------------------------------------------------------#\n",
    "\n",
    "\n",
    "\n",
    "# Randomness Parameters\n",
    "# ----------------------------------------------------------------------------------------------#\n",
    "seed = 510920758332\n",
    "v_rand = 4\n",
    "# ----------------------------------------------------------------------------------------------#\n",
    "\n",
    "### Create model instance with parameters above ###\n",
    "model_instance = SiSModel(r_inner_base, r_outer_base, r_inner_lin, r_outer_lin, r_inner_par, r_outer_par, 0, theta, v_radial_0, 0, v_phi_0, v_z_0, v_rand, z_no_rotation, seed)\n",
    "\n",
    "#opacity (get rid)"
   ]
  },
  {
   "cell_type": "markdown",
   "id": "b23c73eb-f3b7-4c3b-8259-218f26562625",
   "metadata": {},
   "source": [
    "# Radius Parameter"
   ]
  },
  {
   "cell_type": "code",
   "execution_count": 4,
   "id": "3c4f5525-b557-4e89-97b2-4cb68de21d20",
   "metadata": {},
   "outputs": [
    {
     "data": {
      "image/png": "[encoded data removed]",
      "text/plain": [
       "<Figure size 720x720 with 1 Axes>"
      ]
     },
     "metadata": {
      "needs_background": "light"
     },
     "output_type": "display_data"
    }
   ],
   "source": [
    "pv=model_instance.radius_graph()"
   ]
  },
  {
   "cell_type": "markdown",
   "id": "134cff77-d5c4-48f2-9934-3c8b10ba32a7",
   "metadata": {},
   "source": [
    "# Velocity Parameters"
   ]
  },
  {
   "cell_type": "code",
   "execution_count": null,
   "id": "303e4a64-7386-4a1f-a9e2-275f72442133",
   "metadata": {},
   "outputs": [],
   "source": []
  },
  {
   "cell_type": "markdown",
   "id": "e7f3c2e6-4c38-4abd-b761-5b5244f596b0",
   "metadata": {},
   "source": [
    "# Angle Parameters"
   ]
  },
  {
   "cell_type": "markdown",
   "id": "6a3aed11-10ca-447c-87bf-01d6036284d2",
   "metadata": {},
   "source": [
    "# PV Plot"
   ]
  },
  {
   "cell_type": "code",
   "execution_count": null,
   "id": "4ba260df-0e84-49d6-867e-dc80a7d8da5e",
   "metadata": {},
   "outputs": [],
   "source": [
    "pv=model_instance.position_velocity()"
   ]
  },
  {
   "cell_type": "code",
   "execution_count": null,
   "id": "acdd2a00-023f-48e4-8b51-fed48980ce71",
   "metadata": {},
   "outputs": [],
   "source": [
    "#Parameters to be Found\n",
    "#r_outer_base - Outer Radii of the Outflow - Done\n",
    "#r_inner_base - Inner Radii of the Outflow - Done\n",
    "#v_radial\n",
    "# v_phi_0\n",
    "#v_z_0\n",
    "#theta"
   ]
  }
 ],
 "metadata": {
  "kernelspec": {
   "display_name": "Python 3",
   "language": "python",
   "name": "python3"
  },
  "language_info": {
   "codemirror_mode": {
    "name": "ipython",
    "version": 3
   },
   "file_extension": ".py",
   "mimetype": "text/x-python",
   "name": "python",
   "nbconvert_exporter": "python",
   "pygments_lexer": "ipython3",
   "version": "3.8.8"
  }
 },
 "nbformat": 4,
 "nbformat_minor": 5
}
