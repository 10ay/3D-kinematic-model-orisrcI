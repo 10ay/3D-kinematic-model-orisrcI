{
 "cells": [
  {
   "cell_type": "code",
   "execution_count": 2,
   "id": "8e63bb60-4018-4356-8e74-b6eadfe6b0c4",
   "metadata": {},
   "outputs": [
    {
     "data": {
      "text/plain": [
       "array([[1.41421356, 2.82842712],\n",
       "       [4.24264069, 5.65685425]])"
      ]
     },
     "execution_count": 2,
     "metadata": {},
     "output_type": "execute_result"
    }
   ],
   "source": [
    "import numpy as np\n",
    "\n",
    "a = np.array([[1, 2], [3, 4]])\n",
    "b = np.array([[1, 2], [3, 4]])\n",
    "np.sqrt(a**2+b**2)"
   ]
  },
  {
   "cell_type": "code",
   "execution_count": 6,
   "id": "14c1e8e8-3fc8-4d30-b0f5-162f98d34847",
   "metadata": {},
   "outputs": [
    {
     "data": {
      "text/plain": [
       "array([[0., 0., 0., ..., 0., 0., 0.],\n",
       "       [0., 0., 0., ..., 0., 0., 0.],\n",
       "       [0., 0., 0., ..., 0., 0., 0.],\n",
       "       ...,\n",
       "       [0., 0., 0., ..., 0., 0., 0.],\n",
       "       [0., 0., 0., ..., 0., 0., 0.],\n",
       "       [0., 0., 0., ..., 0., 0., 0.]])"
      ]
     },
     "execution_count": 6,
     "metadata": {},
     "output_type": "execute_result"
    }
   ],
   "source": [
    "x, y = np.meshgrid( np.linspace(-400,400,501), \n",
    "                               np.linspace(-400,400,501) )\n",
    "z = np.full(np.shape(x),0.0)\n",
    "z"
   ]
  },
  {
   "cell_type": "code",
   "execution_count": 7,
   "id": "ad1e5d44-6bae-4e02-a6b9-54882def1fd6",
   "metadata": {},
   "outputs": [],
   "source": [
    "d  = np.sqrt(x**2+y**2+z**2)\n"
   ]
  },
  {
   "cell_type": "code",
   "execution_count": 8,
   "id": "c47ff257-a501-405c-9ffc-cfd52a271c95",
   "metadata": {},
   "outputs": [],
   "source": [
    "bicone_coords = (x,y,z)"
   ]
  },
  {
   "cell_type": "code",
   "execution_count": 9,
   "id": "117c5c2e-461a-4934-8ed4-5043019498fd",
   "metadata": {},
   "outputs": [
    {
     "data": {
      "text/plain": [
       "(array([[-400. , -398.4, -396.8, ...,  396.8,  398.4,  400. ],\n",
       "        [-400. , -398.4, -396.8, ...,  396.8,  398.4,  400. ],\n",
       "        [-400. , -398.4, -396.8, ...,  396.8,  398.4,  400. ],\n",
       "        ...,\n",
       "        [-400. , -398.4, -396.8, ...,  396.8,  398.4,  400. ],\n",
       "        [-400. , -398.4, -396.8, ...,  396.8,  398.4,  400. ],\n",
       "        [-400. , -398.4, -396.8, ...,  396.8,  398.4,  400. ]]),\n",
       " array([[-400. , -400. , -400. , ..., -400. , -400. , -400. ],\n",
       "        [-398.4, -398.4, -398.4, ..., -398.4, -398.4, -398.4],\n",
       "        [-396.8, -396.8, -396.8, ..., -396.8, -396.8, -396.8],\n",
       "        ...,\n",
       "        [ 396.8,  396.8,  396.8, ...,  396.8,  396.8,  396.8],\n",
       "        [ 398.4,  398.4,  398.4, ...,  398.4,  398.4,  398.4],\n",
       "        [ 400. ,  400. ,  400. , ...,  400. ,  400. ,  400. ]]),\n",
       " array([[0., 0., 0., ..., 0., 0., 0.],\n",
       "        [0., 0., 0., ..., 0., 0., 0.],\n",
       "        [0., 0., 0., ..., 0., 0., 0.],\n",
       "        ...,\n",
       "        [0., 0., 0., ..., 0., 0., 0.],\n",
       "        [0., 0., 0., ..., 0., 0., 0.],\n",
       "        [0., 0., 0., ..., 0., 0., 0.]]))"
      ]
     },
     "execution_count": 9,
     "metadata": {},
     "output_type": "execute_result"
    }
   ],
   "source": [
    "bicone_coords"
   ]
  },
  {
   "cell_type": "code",
   "execution_count": 10,
   "id": "56c05973-58b9-443d-803c-a13dec9f92c0",
   "metadata": {},
   "outputs": [],
   "source": [
    "bicone_grid = np.zeros(len(d))"
   ]
  },
  {
   "cell_type": "code",
   "execution_count": 11,
   "id": "c7811110-8fe6-4025-b626-4f6e4af4e0f2",
   "metadata": {},
   "outputs": [
    {
     "data": {
      "text/plain": [
       "array([0., 0., 0., 0., 0., 0., 0., 0., 0., 0., 0., 0., 0., 0., 0., 0., 0.,\n",
       "       0., 0., 0., 0., 0., 0., 0., 0., 0., 0., 0., 0., 0., 0., 0., 0., 0.,\n",
       "       0., 0., 0., 0., 0., 0., 0., 0., 0., 0., 0., 0., 0., 0., 0., 0., 0.,\n",
       "       0., 0., 0., 0., 0., 0., 0., 0., 0., 0., 0., 0., 0., 0., 0., 0., 0.,\n",
       "       0., 0., 0., 0., 0., 0., 0., 0., 0., 0., 0., 0., 0., 0., 0., 0., 0.,\n",
       "       0., 0., 0., 0., 0., 0., 0., 0., 0., 0., 0., 0., 0., 0., 0., 0., 0.,\n",
       "       0., 0., 0., 0., 0., 0., 0., 0., 0., 0., 0., 0., 0., 0., 0., 0., 0.,\n",
       "       0., 0., 0., 0., 0., 0., 0., 0., 0., 0., 0., 0., 0., 0., 0., 0., 0.,\n",
       "       0., 0., 0., 0., 0., 0., 0., 0., 0., 0., 0., 0., 0., 0., 0., 0., 0.,\n",
       "       0., 0., 0., 0., 0., 0., 0., 0., 0., 0., 0., 0., 0., 0., 0., 0., 0.,\n",
       "       0., 0., 0., 0., 0., 0., 0., 0., 0., 0., 0., 0., 0., 0., 0., 0., 0.,\n",
       "       0., 0., 0., 0., 0., 0., 0., 0., 0., 0., 0., 0., 0., 0., 0., 0., 0.,\n",
       "       0., 0., 0., 0., 0., 0., 0., 0., 0., 0., 0., 0., 0., 0., 0., 0., 0.,\n",
       "       0., 0., 0., 0., 0., 0., 0., 0., 0., 0., 0., 0., 0., 0., 0., 0., 0.,\n",
       "       0., 0., 0., 0., 0., 0., 0., 0., 0., 0., 0., 0., 0., 0., 0., 0., 0.,\n",
       "       0., 0., 0., 0., 0., 0., 0., 0., 0., 0., 0., 0., 0., 0., 0., 0., 0.,\n",
       "       0., 0., 0., 0., 0., 0., 0., 0., 0., 0., 0., 0., 0., 0., 0., 0., 0.,\n",
       "       0., 0., 0., 0., 0., 0., 0., 0., 0., 0., 0., 0., 0., 0., 0., 0., 0.,\n",
       "       0., 0., 0., 0., 0., 0., 0., 0., 0., 0., 0., 0., 0., 0., 0., 0., 0.,\n",
       "       0., 0., 0., 0., 0., 0., 0., 0., 0., 0., 0., 0., 0., 0., 0., 0., 0.,\n",
       "       0., 0., 0., 0., 0., 0., 0., 0., 0., 0., 0., 0., 0., 0., 0., 0., 0.,\n",
       "       0., 0., 0., 0., 0., 0., 0., 0., 0., 0., 0., 0., 0., 0., 0., 0., 0.,\n",
       "       0., 0., 0., 0., 0., 0., 0., 0., 0., 0., 0., 0., 0., 0., 0., 0., 0.,\n",
       "       0., 0., 0., 0., 0., 0., 0., 0., 0., 0., 0., 0., 0., 0., 0., 0., 0.,\n",
       "       0., 0., 0., 0., 0., 0., 0., 0., 0., 0., 0., 0., 0., 0., 0., 0., 0.,\n",
       "       0., 0., 0., 0., 0., 0., 0., 0., 0., 0., 0., 0., 0., 0., 0., 0., 0.,\n",
       "       0., 0., 0., 0., 0., 0., 0., 0., 0., 0., 0., 0., 0., 0., 0., 0., 0.,\n",
       "       0., 0., 0., 0., 0., 0., 0., 0., 0., 0., 0., 0., 0., 0., 0., 0., 0.,\n",
       "       0., 0., 0., 0., 0., 0., 0., 0., 0., 0., 0., 0., 0., 0., 0., 0., 0.,\n",
       "       0., 0., 0., 0., 0., 0., 0., 0.])"
      ]
     },
     "execution_count": 11,
     "metadata": {},
     "output_type": "execute_result"
    }
   ],
   "source": [
    "bicone_grid\n"
   ]
  },
  {
   "cell_type": "code",
   "execution_count": 13,
   "id": "8b903f4d-30ab-421c-9b92-07b7d0341223",
   "metadata": {},
   "outputs": [],
   "source": [
    "from scipy.interpolate import griddata\n"
   ]
  },
  {
   "cell_type": "code",
   "execution_count": 14,
   "id": "9a75dc3c-24db-4b99-96f3-f322132dcb17",
   "metadata": {},
   "outputs": [
    {
     "data": {
      "text/plain": [
       "<zip at 0x7f7f2c94a200>"
      ]
     },
     "execution_count": 14,
     "metadata": {},
     "output_type": "execute_result"
    }
   ],
   "source": [
    "zip(x,y,z)"
   ]
  },
  {
   "cell_type": "code",
   "execution_count": 1,
   "id": "9c27f34d-44ed-449b-9d90-a5a6f930996e",
   "metadata": {},
   "outputs": [],
   "source": [
    "import numpy as np\n",
    "import pandas as pd\n",
    "import math\n",
    "from sisModel import SiSModel\n",
    "from matplotlib import pyplot as plt\n",
    "import astropy as ast\n",
    "from astropy.io import fits"
   ]
  },
  {
   "cell_type": "code",
   "execution_count": 2,
   "id": "5d7b8131-1482-46c6-8fc7-3c1d7c7b78e1",
   "metadata": {},
   "outputs": [],
   "source": [
    "def sky_to_outflow(x, y, z):\n",
    "        x_prime, y_prime, z_prime = self.sky_to_prime(x, y, z)\n",
    "        r, phi, z_prime = self.prime_to_outflow(x_prime, y_prime, z_prime)\n",
    "        return r, phi, z_prime\n",
    "def velocity_model_field(r, phi, zprime):\n",
    "    \n",
    "        mask = (r > self.r_inner(zprime)) & (r < self.r_outer(zprime))\n",
    "        vr = np.where(mask, self.v_radial * self.v_radial_dropoff(zprime), np.nan)\n",
    "\n",
    "        # Azimuthal rotation of vphi0 next to disk, drops linearly to 0 at height z_no_rotation #\n",
    "        vphi = np.where(np.abs(zprime) < self.z_no_rotation, self.v_phi0 * self.v_phi_dropoff(zprime), 0.)\n",
    "        vphi = np.where(mask, vphi, np.nan)\n",
    "        \n",
    "        # Flows away from disk at constant velocity vz0\n",
    "        vz = np.where(zprime > 0., self.vz_0 * self.v_z_dropoff(zprime), -self.vz_0 * self.v_z_dropoff(zprime))\n",
    "        vz = np.where(mask, vz, np.nan)\n",
    "        \n",
    "                      \n",
    "        vx, vy, vz = self.outflow_to_sky_velocity(phi, vr, vphi, vz)\n",
    "        \n",
    "        vx = self.add_random_velocity_component(vx)\n",
    "        vy = self.add_random_velocity_component(vy)\n",
    "        vz = self.add_random_velocity_component(vz)\n",
    "        \n",
    "        \n",
    "        return vx, vy, vz\n",
    "\n",
    "    "
   ]
  },
  {
   "cell_type": "code",
   "execution_count": 63,
   "id": "a63350d7-4556-4c4d-b2d2-45709d83c69a",
   "metadata": {},
   "outputs": [
    {
     "name": "stdout",
     "output_type": "stream",
     "text": [
      "<zip object at 0x7fe297b0f540>\n"
     ]
    },
    {
     "data": {
      "text/plain": [
       "<zip at 0x7fe297b0f540>"
      ]
     },
     "execution_count": 63,
     "metadata": {},
     "output_type": "execute_result"
    }
   ],
   "source": [
    "x, y = np.meshgrid( np.linspace(-10,10,10), \n",
    "                np.linspace(-10,10,10) )\n",
    "                # using 240 AU x 240 AU slices for this example\n",
    "                # possible addition to the code is to check that outflow fits within the slice\n",
    "xm, ym = x.ravel(), y.ravel()\n",
    "zm =np.full(np.shape(xm), 0.0)\n",
    "d  = np.sqrt(xm**2+ym**2+zm**2)\n",
    "bicone_grid = np.full(np.shape(d), 0.0)\n",
    "\n",
    "dust_plane_radius = 2* 5\n",
    "\n",
    "x_dust_grid, y_dust_grid = np.meshgrid(np.linspace(-dust_plane_radius, dust_plane_radius, 10),\n",
    "                           np.linspace(-dust_plane_radius, dust_plane_radius, 10))\n",
    "z_dust_grid = np.full(np.shape(x_dust_grid), 0.0)\n",
    "distance = np.sqrt(x_dust_grid**2+y_dust_grid**2)\n",
    "\n",
    "x_dust, y_dust, z_dust = x_dust_grid.ravel(), y_dust_grid.ravel(), z_dust_grid.ravel()\n",
    "x_dust = x_dust_grid[distance<=dust_plane_radius]\n",
    "y_dust = y_dust_grid[distance<=dust_plane_radius]\n",
    "z_dust = z_dust_grid\n",
    "[distance<=dust_plane_radius]\n",
    "model_coords = (xm, ym, zm)\n",
    "dust_coords = (x_dust, y_dust, z_dust)\n",
    "print(zip(dust_coords))\n",
    "zip(dust_coords)"
   ]
  },
  {
   "cell_type": "code",
   "execution_count": 39,
   "id": "1516de38-afc0-4b7a-8c08-ccff2d299d91",
   "metadata": {},
   "outputs": [
    {
     "data": {
      "text/plain": [
       "\u001b[0;31mSignature:\u001b[0m \u001b[0mnp\u001b[0m\u001b[0;34m.\u001b[0m\u001b[0mreshape\u001b[0m\u001b[0;34m(\u001b[0m\u001b[0ma\u001b[0m\u001b[0;34m,\u001b[0m \u001b[0mnewshape\u001b[0m\u001b[0;34m,\u001b[0m \u001b[0morder\u001b[0m\u001b[0;34m=\u001b[0m\u001b[0;34m'C'\u001b[0m\u001b[0;34m)\u001b[0m\u001b[0;34m\u001b[0m\u001b[0;34m\u001b[0m\u001b[0m\n",
       "\u001b[0;31mDocstring:\u001b[0m\n",
       "Gives a new shape to an array without changing its data.\n",
       "\n",
       "Parameters\n",
       "----------\n",
       "a : array_like\n",
       "    Array to be reshaped.\n",
       "newshape : int or tuple of ints\n",
       "    The new shape should be compatible with the original shape. If\n",
       "    an integer, then the result will be a 1-D array of that length.\n",
       "    One shape dimension can be -1. In this case, the value is\n",
       "    inferred from the length of the array and remaining dimensions.\n",
       "order : {'C', 'F', 'A'}, optional\n",
       "    Read the elements of `a` using this index order, and place the\n",
       "    elements into the reshaped array using this index order.  'C'\n",
       "    means to read / write the elements using C-like index order,\n",
       "    with the last axis index changing fastest, back to the first\n",
       "    axis index changing slowest. 'F' means to read / write the\n",
       "    elements using Fortran-like index order, with the first index\n",
       "    changing fastest, and the last index changing slowest. Note that\n",
       "    the 'C' and 'F' options take no account of the memory layout of\n",
       "    the underlying array, and only refer to the order of indexing.\n",
       "    'A' means to read / write the elements in Fortran-like index\n",
       "    order if `a` is Fortran *contiguous* in memory, C-like order\n",
       "    otherwise.\n",
       "\n",
       "Returns\n",
       "-------\n",
       "reshaped_array : ndarray\n",
       "    This will be a new view object if possible; otherwise, it will\n",
       "    be a copy.  Note there is no guarantee of the *memory layout* (C- or\n",
       "    Fortran- contiguous) of the returned array.\n",
       "\n",
       "See Also\n",
       "--------\n",
       "ndarray.reshape : Equivalent method.\n",
       "\n",
       "Notes\n",
       "-----\n",
       "It is not always possible to change the shape of an array without\n",
       "copying the data. If you want an error to be raised when the data is copied,\n",
       "you should assign the new shape to the shape attribute of the array::\n",
       "\n",
       " >>> a = np.zeros((10, 2))\n",
       "\n",
       " # A transpose makes the array non-contiguous\n",
       " >>> b = a.T\n",
       "\n",
       " # Taking a view makes it possible to modify the shape without modifying\n",
       " # the initial object.\n",
       " >>> c = b.view()\n",
       " >>> c.shape = (20)\n",
       " Traceback (most recent call last):\n",
       "    ...\n",
       " AttributeError: Incompatible shape for in-place modification. Use\n",
       " `.reshape()` to make a copy with the desired shape.\n",
       "\n",
       "The `order` keyword gives the index ordering both for *fetching* the values\n",
       "from `a`, and then *placing* the values into the output array.\n",
       "For example, let's say you have an array:\n",
       "\n",
       ">>> a = np.arange(6).reshape((3, 2))\n",
       ">>> a\n",
       "array([[0, 1],\n",
       "       [2, 3],\n",
       "       [4, 5]])\n",
       "\n",
       "You can think of reshaping as first raveling the array (using the given\n",
       "index order), then inserting the elements from the raveled array into the\n",
       "new array using the same kind of index ordering as was used for the\n",
       "raveling.\n",
       "\n",
       ">>> np.reshape(a, (2, 3)) # C-like index ordering\n",
       "array([[0, 1, 2],\n",
       "       [3, 4, 5]])\n",
       ">>> np.reshape(np.ravel(a), (2, 3)) # equivalent to C ravel then C reshape\n",
       "array([[0, 1, 2],\n",
       "       [3, 4, 5]])\n",
       ">>> np.reshape(a, (2, 3), order='F') # Fortran-like index ordering\n",
       "array([[0, 4, 3],\n",
       "       [2, 1, 5]])\n",
       ">>> np.reshape(np.ravel(a, order='F'), (2, 3), order='F')\n",
       "array([[0, 4, 3],\n",
       "       [2, 1, 5]])\n",
       "\n",
       "Examples\n",
       "--------\n",
       ">>> a = np.array([[1,2,3], [4,5,6]])\n",
       ">>> np.reshape(a, 6)\n",
       "array([1, 2, 3, 4, 5, 6])\n",
       ">>> np.reshape(a, 6, order='F')\n",
       "array([1, 4, 2, 5, 3, 6])\n",
       "\n",
       ">>> np.reshape(a, (3,-1))       # the unspecified value is inferred to be 2\n",
       "array([[1, 2],\n",
       "       [3, 4],\n",
       "       [5, 6]])\n",
       "\u001b[0;31mFile:\u001b[0m      ~/opt/anaconda3/lib/python3.8/site-packages/numpy/core/fromnumeric.py\n",
       "\u001b[0;31mType:\u001b[0m      function\n"
      ]
     },
     "metadata": {},
     "output_type": "display_data"
    }
   ],
   "source": [
    "np.reshape?"
   ]
  },
  {
   "cell_type": "code",
   "execution_count": 64,
   "id": "6cb83eb2-b528-4306-bb85-2b746f7a5503",
   "metadata": {},
   "outputs": [
    {
     "name": "stdout",
     "output_type": "stream",
     "text": [
      "Object `ax.contourf` not found.\n"
     ]
    }
   ],
   "source": [
    "ax.contourf?"
   ]
  },
  {
   "cell_type": "code",
   "execution_count": null,
   "id": "b9d3136a-ceff-469c-99d5-ff904f40327f",
   "metadata": {},
   "outputs": [],
   "source": [
    "\n",
    "        #Radius of dust plane. The radius on the RHS is r0 outer.\n",
    "        dust_plane_radius = 2*radius\n",
    "        \n",
    "        #Generating dust plane grid \n",
    "        \n",
    "        x_dust_grid, y_dust_grid = np.meshgrid(np.linspace(-dust_plane_radius, dust_plane_radius, 501),\n",
    "                           np.linspace(-dust_plane_radius, dust_plane_radius, 501))\n",
    "        z_dust_grid = np.full(np.shape(x_dust_grid), 0.0)\n",
    "        \n",
    "        distance = np.sqrt(x_dust_grid**2+y_dust_grid**2)\n",
    "        \n",
    "        \n",
    "        x_dust = x_dust_grid[distance<=dust_plane_radius]\n",
    "        y_dust = y_dust_grid[distance<=dust_plane_radius]\n",
    "        z_dust = z_dust_grid[distance<=dust_plane_radius]\n",
    "        \n",
    "        model_coords = (x, y, z)\n",
    "        dust_coords = (x_dust, y_dust, z_dust)\n",
    "        \n",
    "        \n",
    "        points = zip(x,y,z)\n",
    "        values = bicone_grid\n",
    "        print(z)\n",
    "        new_model_grid = griddata(np.array(points), np.array(values), np.array(zip(x, y, z)), method='nearest')\n",
    "        ###Generate flux grid\n",
    "        dust_velocity = dust_velocity_profile(new_model_grid, model_coords,vmax=vmax, D=1.0,  vtype='decreasing')\n",
    "        \n",
    "        z_dust_grid = griddata ((x_dust, y_dust), z_dust, (x_dust_grid, y_dust_grid), method='cubic')\n",
    "        \n",
    "        return dust_velocity, x_dust_grid, y_dust_grid, z_dust_grid\n",
    "        "
   ]
  },
  {
   "cell_type": "code",
   "execution_count": 16,
   "id": "1f24ba41-f882-45a6-a227-e2d0b849d4f0",
   "metadata": {},
   "outputs": [
    {
     "data": {
      "text/plain": [
       "\u001b[0;31mSignature:\u001b[0m \u001b[0mnp\u001b[0m\u001b[0;34m.\u001b[0m\u001b[0mfull\u001b[0m\u001b[0;34m(\u001b[0m\u001b[0mshape\u001b[0m\u001b[0;34m,\u001b[0m \u001b[0mfill_value\u001b[0m\u001b[0;34m,\u001b[0m \u001b[0mdtype\u001b[0m\u001b[0;34m=\u001b[0m\u001b[0;32mNone\u001b[0m\u001b[0;34m,\u001b[0m \u001b[0morder\u001b[0m\u001b[0;34m=\u001b[0m\u001b[0;34m'C'\u001b[0m\u001b[0;34m,\u001b[0m \u001b[0;34m*\u001b[0m\u001b[0;34m,\u001b[0m \u001b[0mlike\u001b[0m\u001b[0;34m=\u001b[0m\u001b[0;32mNone\u001b[0m\u001b[0;34m)\u001b[0m\u001b[0;34m\u001b[0m\u001b[0;34m\u001b[0m\u001b[0m\n",
       "\u001b[0;31mDocstring:\u001b[0m\n",
       "Return a new array of given shape and type, filled with `fill_value`.\n",
       "\n",
       "Parameters\n",
       "----------\n",
       "shape : int or sequence of ints\n",
       "    Shape of the new array, e.g., ``(2, 3)`` or ``2``.\n",
       "fill_value : scalar or array_like\n",
       "    Fill value.\n",
       "dtype : data-type, optional\n",
       "    The desired data-type for the array  The default, None, means\n",
       "     ``np.array(fill_value).dtype``.\n",
       "order : {'C', 'F'}, optional\n",
       "    Whether to store multidimensional data in C- or Fortran-contiguous\n",
       "    (row- or column-wise) order in memory.\n",
       "like : array_like\n",
       "    Reference object to allow the creation of arrays which are not\n",
       "    NumPy arrays. If an array-like passed in as ``like`` supports\n",
       "    the ``__array_function__`` protocol, the result will be defined\n",
       "    by it. In this case, it ensures the creation of an array object\n",
       "    compatible with that passed in via this argument.\n",
       "\n",
       "    .. versionadded:: 1.20.0\n",
       "\n",
       "Returns\n",
       "-------\n",
       "out : ndarray\n",
       "    Array of `fill_value` with the given shape, dtype, and order.\n",
       "\n",
       "See Also\n",
       "--------\n",
       "full_like : Return a new array with shape of input filled with value.\n",
       "empty : Return a new uninitialized array.\n",
       "ones : Return a new array setting values to one.\n",
       "zeros : Return a new array setting values to zero.\n",
       "\n",
       "Examples\n",
       "--------\n",
       ">>> np.full((2, 2), np.inf)\n",
       "array([[inf, inf],\n",
       "       [inf, inf]])\n",
       ">>> np.full((2, 2), 10)\n",
       "array([[10, 10],\n",
       "       [10, 10]])\n",
       "\n",
       ">>> np.full((2, 2), [1, 2])\n",
       "array([[1, 2],\n",
       "       [1, 2]])\n",
       "\u001b[0;31mFile:\u001b[0m      ~/opt/anaconda3/lib/python3.8/site-packages/numpy/core/numeric.py\n",
       "\u001b[0;31mType:\u001b[0m      function\n"
      ]
     },
     "metadata": {},
     "output_type": "display_data"
    }
   ],
   "source": [
    "np.full?"
   ]
  },
  {
   "cell_type": "code",
   "execution_count": null,
   "id": "be949932-08ce-4077-a75e-7a1e43b28345",
   "metadata": {},
   "outputs": [],
   "source": [
    "if np.any(zprime<0):\n",
    "                v_y_adj = -vy + SiSModel.v_lsr\n",
    "            else:\n",
    "                v_y_adj = vy + SiSModel.v_lsr\n",
    "\n",
    "                # add the source VLSR\n",
    "            vlos=[]\n",
    "            for i in range(0,len(x)) :\n",
    "                vl,binedges = np.histogram(v_y_adj[:, i], range=(vmin, vmax), bins=nvbins)\n",
    "                vlos.append(vl)                \n",
    "                \n",
    "            ax.imshow( vlos, origin='lower', aspect='auto', extent=(vmin, vmax, x[0,0], x[-1,-1]) )\n",
    "            \n",
    "            #dust_velocity, x_dust_grid, y_dust_grid, z_dust_grid = self.dust(self.r2_outer, x, y, z)\n",
    "            #ax.contourf(x_dust_grid, y_dust_grid, z_dust_grid, cmap=cm.Oranges, alpha=0.5)\n",
    "            ax.annotate(\"z = %.0f AU\" % z, (.05, .9), xycoords=\"axes fraction\", color='white')\n",
    "    "
   ]
  }
 ],
 "metadata": {
  "kernelspec": {
   "display_name": "Python 3",
   "language": "python",
   "name": "python3"
  },
  "language_info": {
   "codemirror_mode": {
    "name": "ipython",
    "version": 3
   },
   "file_extension": ".py",
   "mimetype": "text/x-python",
   "name": "python",
   "nbconvert_exporter": "python",
   "pygments_lexer": "ipython3",
   "version": "3.8.8"
  }
 },
 "nbformat": 4,
 "nbformat_minor": 5
}
