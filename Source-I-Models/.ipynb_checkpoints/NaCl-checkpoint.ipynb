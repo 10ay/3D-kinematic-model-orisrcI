{
 "cells": [
  {
   "cell_type": "code",
   "execution_count": 1,
   "id": "ddade7ee-19d1-46b3-879d-f11a6eee9856",
   "metadata": {},
   "outputs": [],
   "source": [
    "import numpy as np\n",
    "import pandas as pd\n",
    "import math\n",
    "from naclModel import NaClModel\n",
    "from matplotlib import pyplot as plt\n",
    "import astropy as ast\n",
    "import random\n",
    "from astropy.io import fits"
   ]
  },
  {
   "cell_type": "code",
   "execution_count": 2,
   "id": "1b02b839-8dce-4072-ad62-5224c4d7909c",
   "metadata": {},
   "outputs": [],
   "source": [
    "# Adjust these parameters to control the shape of the outflow lobes\n",
    "# r = r0 + r1 * abs(z) + r2 * sqrt(abs(z)); units = AU\n",
    "# ----------------------------------------------------------------------------------------------#\n",
    "r_inner_base = 50.0                      # inner radius at base of outflow from the circumstellar disk\n",
    "r_outer_base = 60.0                     # outer radius at base of outflow from the circumstellar disk\n",
    "theta = math.radians(50.)             # angle of outflow axis to plane of sky \n",
    "# ----------------------------------------------------------------------------------------------#\n",
    "\n",
    "\n",
    "# Test and Deprecated Variables\n",
    "# ----------------------------------------------------------------------------------------------#\n",
    "#r_inner_angle = math.atan(.25)        # angle relating linear increase in inner radius with z\n",
    "#r_outer_angle = math.atan(.50)        # angle relating linear increase in outer radius with z\n",
    "#theta = 0                             # test angle of outflow axis to plane of sky \n",
    "# ----------------------------------------------------------------------------------------------#\n",
    "\n",
    "\n",
    "\n",
    "# Adjust these parameters to control the velocity field inside the outflow shells\n",
    "# ----------------------------------------------------------------------------------------------#\n",
    "v_radial_0 = 0.         # radial expansion speed at all z\n",
    "v_phi_0 = 15.0            # rotational velocity at zprime=0 (in the disk)\n",
    "v_z_0 = 0.0             # expansion speed along outflow axis\n",
    "z_no_rotation = 10.   # rotataional velocity drops to 0 at height z_no_rotation (AU)\n",
    "# ----------------------------------------------------------------------------------------------#\n",
    "\n",
    "# Randomness Parameters\n",
    "# ----------------------------------------------------------------------------------------------#\n",
    "seed = 510920758332\n",
    "v_rand = 5\n",
    "# ----------------------------------------------------------------------------------------------#\n",
    "\n",
    "\n",
    "\n",
    "\n",
    "### Create model instance with parameters above ###\n",
    "model_instance = NaClModel(r_inner_base, r_outer_base, theta, v_radial_0, v_radial_0, v_phi_0, v_z_0, v_rand, z_no_rotation, seed)\n",
    "\n"
   ]
  },
  {
   "cell_type": "code",
   "execution_count": 3,
   "id": "bf72a990-cd37-4e26-a058-3b92d4efc260",
   "metadata": {},
   "outputs": [
    {
     "ename": "TypeError",
     "evalue": "pv() missing 1 required positional argument: 'exp_factor'",
     "output_type": "error",
     "traceback": [
      "\u001b[0;31m---------------------------------------------------------------------------\u001b[0m",
      "\u001b[0;31mTypeError\u001b[0m                                 Traceback (most recent call last)",
      "\u001b[0;32m<ipython-input-3-ecadad5fc331>\u001b[0m in \u001b[0;36m<module>\u001b[0;34m\u001b[0m\n\u001b[0;32m----> 1\u001b[0;31m \u001b[0mmodel_instance\u001b[0m\u001b[0;34m.\u001b[0m\u001b[0mposition_velocity\u001b[0m\u001b[0;34m(\u001b[0m\u001b[0;34m\"x\"\u001b[0m\u001b[0;34m,\u001b[0m \u001b[0;36m0.01\u001b[0m\u001b[0;34m)\u001b[0m\u001b[0;34m\u001b[0m\u001b[0;34m\u001b[0m\u001b[0m\n\u001b[0m",
      "\u001b[0;32m~/Documents/Berkeley/Research/Source I/Source-I-Models-main/naclModel.py\u001b[0m in \u001b[0;36mposition_velocity\u001b[0;34m(self, axis, exp_factor)\u001b[0m\n\u001b[1;32m    267\u001b[0m         \u001b[0;32mfor\u001b[0m \u001b[0mi\u001b[0m \u001b[0;32min\u001b[0m \u001b[0mrange\u001b[0m\u001b[0;34m(\u001b[0m\u001b[0;36m0\u001b[0m\u001b[0;34m,\u001b[0m \u001b[0mnx\u001b[0m\u001b[0;34m)\u001b[0m \u001b[0;34m:\u001b[0m\u001b[0;34m\u001b[0m\u001b[0;34m\u001b[0m\u001b[0m\n\u001b[1;32m    268\u001b[0m             \u001b[0;32mfor\u001b[0m \u001b[0mj\u001b[0m \u001b[0;32min\u001b[0m \u001b[0mrange\u001b[0m\u001b[0;34m(\u001b[0m\u001b[0;36m0\u001b[0m\u001b[0;34m,\u001b[0m \u001b[0mny\u001b[0m\u001b[0;34m)\u001b[0m \u001b[0;34m:\u001b[0m\u001b[0;34m\u001b[0m\u001b[0;34m\u001b[0m\u001b[0m\n\u001b[0;32m--> 269\u001b[0;31m                 \u001b[0mpv\u001b[0m\u001b[0;34m(\u001b[0m\u001b[0max\u001b[0m\u001b[0;34m[\u001b[0m\u001b[0mi\u001b[0m\u001b[0;34m,\u001b[0m \u001b[0mj\u001b[0m\u001b[0;34m]\u001b[0m\u001b[0;34m,\u001b[0m \u001b[0mz\u001b[0m\u001b[0;34m,\u001b[0m \u001b[0mvmin\u001b[0m\u001b[0;34m,\u001b[0m \u001b[0mvmax\u001b[0m\u001b[0;34m,\u001b[0m \u001b[0mnvbins\u001b[0m\u001b[0;34m,\u001b[0m \u001b[0mexp_factor\u001b[0m\u001b[0;34m)\u001b[0m\u001b[0;34m\u001b[0m\u001b[0;34m\u001b[0m\u001b[0m\n\u001b[0m\u001b[1;32m    270\u001b[0m                 \u001b[0;32mif\u001b[0m \u001b[0mi\u001b[0m \u001b[0;34m==\u001b[0m \u001b[0mnx\u001b[0m \u001b[0;34m-\u001b[0m \u001b[0;36m1\u001b[0m \u001b[0;34m:\u001b[0m\u001b[0;34m\u001b[0m\u001b[0;34m\u001b[0m\u001b[0m\n\u001b[1;32m    271\u001b[0m                     \u001b[0max\u001b[0m\u001b[0;34m[\u001b[0m\u001b[0mi\u001b[0m\u001b[0;34m,\u001b[0m \u001b[0mj\u001b[0m\u001b[0;34m]\u001b[0m\u001b[0;34m.\u001b[0m\u001b[0mset_xlabel\u001b[0m\u001b[0;34m(\u001b[0m\u001b[0;34m\"VLSR (km/sec)\"\u001b[0m\u001b[0;34m)\u001b[0m\u001b[0;34m\u001b[0m\u001b[0;34m\u001b[0m\u001b[0m\n",
      "\u001b[0;31mTypeError\u001b[0m: pv() missing 1 required positional argument: 'exp_factor'"
     ]
    },
    {
     "data": {
      "image/png": "[encoded data removed]",
      "text/plain": [
       "<Figure size 720x720 with 12 Axes>"
      ]
     },
     "metadata": {
      "needs_background": "light"
     },
     "output_type": "display_data"
    }
   ],
   "source": [
    "model_instance.position_velocity(0.01)"
   ]
  },
  {
   "cell_type": "code",
   "execution_count": null,
   "id": "3438a123-0915-4150-93de-5abce4cf97df",
   "metadata": {},
   "outputs": [],
   "source": []
  }
 ],
 "metadata": {
  "kernelspec": {
   "display_name": "Python 3",
   "language": "python",
   "name": "python3"
  },
  "language_info": {
   "codemirror_mode": {
    "name": "ipython",
    "version": 3
   },
   "file_extension": ".py",
   "mimetype": "text/x-python",
   "name": "python",
   "nbconvert_exporter": "python",
   "pygments_lexer": "ipython3",
   "version": "3.8.8"
  }
 },
 "nbformat": 4,
 "nbformat_minor": 5
}
